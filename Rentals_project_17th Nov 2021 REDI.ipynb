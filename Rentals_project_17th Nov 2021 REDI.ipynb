{
 "cells": [
  {
   "cell_type": "code",
   "execution_count": 2,
   "id": "339ccebf",
   "metadata": {},
   "outputs": [],
   "source": [
    "# Imports\n",
    "import pandas as pd\n",
    "import seaborn as sns\n",
    "import numpy as np\n"
   ]
  },
  {
   "cell_type": "code",
   "execution_count": 3,
   "id": "f37ff585",
   "metadata": {},
   "outputs": [
    {
     "data": {
      "text/html": [
       "<div>\n",
       "<style scoped>\n",
       "    .dataframe tbody tr th:only-of-type {\n",
       "        vertical-align: middle;\n",
       "    }\n",
       "\n",
       "    .dataframe tbody tr th {\n",
       "        vertical-align: top;\n",
       "    }\n",
       "\n",
       "    .dataframe thead th {\n",
       "        text-align: right;\n",
       "    }\n",
       "</style>\n",
       "<table border=\"1\" class=\"dataframe\">\n",
       "  <thead>\n",
       "    <tr style=\"text-align: right;\">\n",
       "      <th></th>\n",
       "      <th>Region</th>\n",
       "      <th>Condition</th>\n",
       "      <th>Rooms</th>\n",
       "      <th>Rent</th>\n",
       "      <th>Year_Construction</th>\n",
       "      <th>Space</th>\n",
       "    </tr>\n",
       "  </thead>\n",
       "  <tbody>\n",
       "    <tr>\n",
       "      <th>0</th>\n",
       "      <td>Mitte</td>\n",
       "      <td>first_time_use</td>\n",
       "      <td>4.0</td>\n",
       "      <td>2659.0</td>\n",
       "      <td>2019</td>\n",
       "      <td>117.20</td>\n",
       "    </tr>\n",
       "    <tr>\n",
       "      <th>1</th>\n",
       "      <td>Kreuzberg</td>\n",
       "      <td>first_time_use</td>\n",
       "      <td>1.0</td>\n",
       "      <td>1200.0</td>\n",
       "      <td>2020</td>\n",
       "      <td>29.33</td>\n",
       "    </tr>\n",
       "  </tbody>\n",
       "</table>\n",
       "</div>"
      ],
      "text/plain": [
       "      Region       Condition  Rooms    Rent  Year_Construction   Space\n",
       "0      Mitte  first_time_use    4.0  2659.0               2019  117.20\n",
       "1  Kreuzberg  first_time_use    1.0  1200.0               2020   29.33"
      ]
     },
     "execution_count": 3,
     "metadata": {},
     "output_type": "execute_result"
    }
   ],
   "source": [
    "# Get the dataset\n",
    "rentals = pd.read_csv('https://raw.githubusercontent.com/juliandnl/redi_ss20/master/berlin_rental.csv')\n",
    "rentals.head(2)"
   ]
  },
  {
   "cell_type": "code",
   "execution_count": 4,
   "id": "09c2767c",
   "metadata": {},
   "outputs": [
    {
     "data": {
      "text/plain": [
       "array(['first_time_use', 'well_kept', 'mint_condition', 'no_information',\n",
       "       'fully_renovated', 'first_time_use_after_refurbishment',\n",
       "       'refurbished', 'modernized', 'need_of_renovation'], dtype=object)"
      ]
     },
     "execution_count": 4,
     "metadata": {},
     "output_type": "execute_result"
    }
   ],
   "source": [
    "rentals.Condition.unique()"
   ]
  },
  {
   "cell_type": "code",
   "execution_count": 5,
   "id": "e81d712b",
   "metadata": {},
   "outputs": [
    {
     "data": {
      "text/html": [
       "<div>\n",
       "<style scoped>\n",
       "    .dataframe tbody tr th:only-of-type {\n",
       "        vertical-align: middle;\n",
       "    }\n",
       "\n",
       "    .dataframe tbody tr th {\n",
       "        vertical-align: top;\n",
       "    }\n",
       "\n",
       "    .dataframe thead th {\n",
       "        text-align: right;\n",
       "    }\n",
       "</style>\n",
       "<table border=\"1\" class=\"dataframe\">\n",
       "  <thead>\n",
       "    <tr style=\"text-align: right;\">\n",
       "      <th></th>\n",
       "      <th>Rooms</th>\n",
       "      <th>Rent</th>\n",
       "      <th>Year_Construction</th>\n",
       "      <th>Space</th>\n",
       "    </tr>\n",
       "  </thead>\n",
       "  <tbody>\n",
       "    <tr>\n",
       "      <th>count</th>\n",
       "      <td>764.000000</td>\n",
       "      <td>764.000000</td>\n",
       "      <td>764.000000</td>\n",
       "      <td>764.000000</td>\n",
       "    </tr>\n",
       "    <tr>\n",
       "      <th>mean</th>\n",
       "      <td>2.549738</td>\n",
       "      <td>1768.560942</td>\n",
       "      <td>1983.695026</td>\n",
       "      <td>84.656270</td>\n",
       "    </tr>\n",
       "    <tr>\n",
       "      <th>std</th>\n",
       "      <td>1.010826</td>\n",
       "      <td>1118.263961</td>\n",
       "      <td>48.006060</td>\n",
       "      <td>44.195338</td>\n",
       "    </tr>\n",
       "    <tr>\n",
       "      <th>min</th>\n",
       "      <td>1.000000</td>\n",
       "      <td>271.250000</td>\n",
       "      <td>1864.000000</td>\n",
       "      <td>14.000000</td>\n",
       "    </tr>\n",
       "    <tr>\n",
       "      <th>25%</th>\n",
       "      <td>2.000000</td>\n",
       "      <td>1039.500000</td>\n",
       "      <td>1959.000000</td>\n",
       "      <td>55.097500</td>\n",
       "    </tr>\n",
       "    <tr>\n",
       "      <th>50%</th>\n",
       "      <td>2.500000</td>\n",
       "      <td>1565.480000</td>\n",
       "      <td>2015.000000</td>\n",
       "      <td>77.600000</td>\n",
       "    </tr>\n",
       "    <tr>\n",
       "      <th>75%</th>\n",
       "      <td>3.000000</td>\n",
       "      <td>2170.000000</td>\n",
       "      <td>2019.000000</td>\n",
       "      <td>104.450000</td>\n",
       "    </tr>\n",
       "    <tr>\n",
       "      <th>max</th>\n",
       "      <td>7.000000</td>\n",
       "      <td>14207.000000</td>\n",
       "      <td>2020.000000</td>\n",
       "      <td>413.910000</td>\n",
       "    </tr>\n",
       "  </tbody>\n",
       "</table>\n",
       "</div>"
      ],
      "text/plain": [
       "            Rooms          Rent  Year_Construction       Space\n",
       "count  764.000000    764.000000         764.000000  764.000000\n",
       "mean     2.549738   1768.560942        1983.695026   84.656270\n",
       "std      1.010826   1118.263961          48.006060   44.195338\n",
       "min      1.000000    271.250000        1864.000000   14.000000\n",
       "25%      2.000000   1039.500000        1959.000000   55.097500\n",
       "50%      2.500000   1565.480000        2015.000000   77.600000\n",
       "75%      3.000000   2170.000000        2019.000000  104.450000\n",
       "max      7.000000  14207.000000        2020.000000  413.910000"
      ]
     },
     "execution_count": 5,
     "metadata": {},
     "output_type": "execute_result"
    }
   ],
   "source": [
    "rentals.describe()"
   ]
  },
  {
   "cell_type": "markdown",
   "id": "e53ce113",
   "metadata": {},
   "source": [
    "### How many rows does the dataset have?\n",
    "\n",
    "### The number of rows of the dataset is as follows:"
   ]
  },
  {
   "cell_type": "code",
   "execution_count": 6,
   "id": "5173e086",
   "metadata": {
    "scrolled": true
   },
   "outputs": [
    {
     "name": "stdout",
     "output_type": "stream",
     "text": [
      "<class 'pandas.core.frame.DataFrame'>\n",
      "RangeIndex: 764 entries, 0 to 763\n",
      "Data columns (total 6 columns):\n",
      " #   Column             Non-Null Count  Dtype  \n",
      "---  ------             --------------  -----  \n",
      " 0   Region             764 non-null    object \n",
      " 1   Condition          764 non-null    object \n",
      " 2   Rooms              764 non-null    float64\n",
      " 3   Rent               764 non-null    float64\n",
      " 4   Year_Construction  764 non-null    int64  \n",
      " 5   Space              764 non-null    float64\n",
      "dtypes: float64(3), int64(1), object(2)\n",
      "memory usage: 35.9+ KB\n"
     ]
    },
    {
     "data": {
      "text/plain": [
       "(764, 6)"
      ]
     },
     "execution_count": 6,
     "metadata": {},
     "output_type": "execute_result"
    }
   ],
   "source": [
    "rentals.info()\n",
    "rentals.shape"
   ]
  },
  {
   "cell_type": "markdown",
   "id": "e297f5cb",
   "metadata": {},
   "source": [
    "#### The number of rows is 760."
   ]
  },
  {
   "cell_type": "markdown",
   "id": "3194f789",
   "metadata": {},
   "source": [
    "### How many different Regions are there?\n",
    "\n",
    "### The different regions in the dataset-rentals."
   ]
  },
  {
   "cell_type": "code",
   "execution_count": 7,
   "id": "92fa3a01",
   "metadata": {},
   "outputs": [
    {
     "data": {
      "text/plain": [
       "764"
      ]
     },
     "execution_count": 7,
     "metadata": {},
     "output_type": "execute_result"
    }
   ],
   "source": [
    "rentals.Region.count()"
   ]
  },
  {
   "cell_type": "code",
   "execution_count": 8,
   "id": "8be7d483",
   "metadata": {},
   "outputs": [
    {
     "name": "stdout",
     "output_type": "stream",
     "text": [
      " The different regions in the dataset-rentals are ['Mitte' 'Kreuzberg' 'Köpenick' 'Wilmersdorf' 'Charlottenburg'\n",
      " 'Friedrichsfelde' 'Tiergarten' 'Prenzlauer' 'Wedding' 'Neukölln'] and its about 10 regions.\n"
     ]
    }
   ],
   "source": [
    "print(f' The different regions in the dataset-rentals are {rentals.Region.unique()} and its about {rentals.Region.nunique()} regions.')"
   ]
  },
  {
   "cell_type": "markdown",
   "id": "3c66325b",
   "metadata": {},
   "source": [
    "### What is the maximum rent? What is the minimum rent?\n",
    "\n",
    "### The maximum rent in the dataset provided is"
   ]
  },
  {
   "cell_type": "code",
   "execution_count": 9,
   "id": "0f226119",
   "metadata": {},
   "outputs": [
    {
     "name": "stdout",
     "output_type": "stream",
     "text": [
      "The maximum rent is the 14207.0 and the minimum rents is 271.25euro in the 10 regions.\n"
     ]
    }
   ],
   "source": [
    "print(f'The maximum rent is the {rentals.Rent.max()} and the minimum rents is {rentals.Rent.min()}euro in the {rentals.Region.nunique()} regions.')"
   ]
  },
  {
   "cell_type": "markdown",
   "id": "96610dbd",
   "metadata": {},
   "source": [
    "### What is the smallest flat?\n",
    "\n",
    "### The smallest flat in the each region"
   ]
  },
  {
   "cell_type": "code",
   "execution_count": 10,
   "id": "afd6b7c0",
   "metadata": {
    "scrolled": true
   },
   "outputs": [
    {
     "data": {
      "text/html": [
       "<div>\n",
       "<style scoped>\n",
       "    .dataframe tbody tr th:only-of-type {\n",
       "        vertical-align: middle;\n",
       "    }\n",
       "\n",
       "    .dataframe tbody tr th {\n",
       "        vertical-align: top;\n",
       "    }\n",
       "\n",
       "    .dataframe thead th {\n",
       "        text-align: right;\n",
       "    }\n",
       "</style>\n",
       "<table border=\"1\" class=\"dataframe\">\n",
       "  <thead>\n",
       "    <tr style=\"text-align: right;\">\n",
       "      <th></th>\n",
       "      <th>Rooms</th>\n",
       "      <th>Space</th>\n",
       "      <th>Rent</th>\n",
       "    </tr>\n",
       "    <tr>\n",
       "      <th>Region</th>\n",
       "      <th></th>\n",
       "      <th></th>\n",
       "      <th></th>\n",
       "    </tr>\n",
       "  </thead>\n",
       "  <tbody>\n",
       "    <tr>\n",
       "      <th>Charlottenburg</th>\n",
       "      <td>1.0</td>\n",
       "      <td>23.62</td>\n",
       "      <td>478.52</td>\n",
       "    </tr>\n",
       "    <tr>\n",
       "      <th>Friedrichsfelde</th>\n",
       "      <td>1.0</td>\n",
       "      <td>25.68</td>\n",
       "      <td>280.74</td>\n",
       "    </tr>\n",
       "    <tr>\n",
       "      <th>Kreuzberg</th>\n",
       "      <td>1.0</td>\n",
       "      <td>20.00</td>\n",
       "      <td>435.74</td>\n",
       "    </tr>\n",
       "    <tr>\n",
       "      <th>Köpenick</th>\n",
       "      <td>1.0</td>\n",
       "      <td>28.40</td>\n",
       "      <td>558.06</td>\n",
       "    </tr>\n",
       "    <tr>\n",
       "      <th>Mitte</th>\n",
       "      <td>1.0</td>\n",
       "      <td>18.00</td>\n",
       "      <td>398.00</td>\n",
       "    </tr>\n",
       "    <tr>\n",
       "      <th>Neukölln</th>\n",
       "      <td>1.0</td>\n",
       "      <td>14.00</td>\n",
       "      <td>379.95</td>\n",
       "    </tr>\n",
       "    <tr>\n",
       "      <th>Prenzlauer</th>\n",
       "      <td>1.0</td>\n",
       "      <td>18.00</td>\n",
       "      <td>475.00</td>\n",
       "    </tr>\n",
       "    <tr>\n",
       "      <th>Tiergarten</th>\n",
       "      <td>1.0</td>\n",
       "      <td>24.00</td>\n",
       "      <td>271.25</td>\n",
       "    </tr>\n",
       "    <tr>\n",
       "      <th>Wedding</th>\n",
       "      <td>1.0</td>\n",
       "      <td>19.22</td>\n",
       "      <td>352.95</td>\n",
       "    </tr>\n",
       "    <tr>\n",
       "      <th>Wilmersdorf</th>\n",
       "      <td>1.0</td>\n",
       "      <td>26.90</td>\n",
       "      <td>404.39</td>\n",
       "    </tr>\n",
       "  </tbody>\n",
       "</table>\n",
       "</div>"
      ],
      "text/plain": [
       "                 Rooms  Space    Rent\n",
       "Region                               \n",
       "Charlottenburg     1.0  23.62  478.52\n",
       "Friedrichsfelde    1.0  25.68  280.74\n",
       "Kreuzberg          1.0  20.00  435.74\n",
       "Köpenick           1.0  28.40  558.06\n",
       "Mitte              1.0  18.00  398.00\n",
       "Neukölln           1.0  14.00  379.95\n",
       "Prenzlauer         1.0  18.00  475.00\n",
       "Tiergarten         1.0  24.00  271.25\n",
       "Wedding            1.0  19.22  352.95\n",
       "Wilmersdorf        1.0  26.90  404.39"
      ]
     },
     "execution_count": 10,
     "metadata": {},
     "output_type": "execute_result"
    }
   ],
   "source": [
    "rentals.groupby('Region')[['Rooms','Space','Rent']].min()"
   ]
  },
  {
   "cell_type": "code",
   "execution_count": 11,
   "id": "1965e016",
   "metadata": {},
   "outputs": [
    {
     "name": "stdout",
     "output_type": "stream",
     "text": [
      " In every region, there are 1.0 room and the smallest flat in all region is in Neukölln with Space of 14.0 sq_meter.\n"
     ]
    }
   ],
   "source": [
    "print(f' In every region, there are {rentals.Rooms.min()} room and the smallest flat in all region is in Neukölln with Space of {rentals.Space.min()} sq_meter.')"
   ]
  },
  {
   "cell_type": "markdown",
   "id": "c829e958",
   "metadata": {},
   "source": [
    "### Groupby Region - What is on average the most expensive region?\n",
    "\n",
    "### The average most expensive region is Mitte."
   ]
  },
  {
   "cell_type": "code",
   "execution_count": 12,
   "id": "4a6b95b9",
   "metadata": {
    "scrolled": true
   },
   "outputs": [
    {
     "data": {
      "text/html": [
       "<div>\n",
       "<style scoped>\n",
       "    .dataframe tbody tr th:only-of-type {\n",
       "        vertical-align: middle;\n",
       "    }\n",
       "\n",
       "    .dataframe tbody tr th {\n",
       "        vertical-align: top;\n",
       "    }\n",
       "\n",
       "    .dataframe thead th {\n",
       "        text-align: right;\n",
       "    }\n",
       "</style>\n",
       "<table border=\"1\" class=\"dataframe\">\n",
       "  <thead>\n",
       "    <tr style=\"text-align: right;\">\n",
       "      <th></th>\n",
       "      <th>Rent</th>\n",
       "      <th>Space</th>\n",
       "    </tr>\n",
       "    <tr>\n",
       "      <th>Region</th>\n",
       "      <th></th>\n",
       "      <th></th>\n",
       "    </tr>\n",
       "  </thead>\n",
       "  <tbody>\n",
       "    <tr>\n",
       "      <th>Charlottenburg</th>\n",
       "      <td>1753.452532</td>\n",
       "      <td>88.083038</td>\n",
       "    </tr>\n",
       "    <tr>\n",
       "      <th>Friedrichsfelde</th>\n",
       "      <td>1043.871731</td>\n",
       "      <td>66.145000</td>\n",
       "    </tr>\n",
       "    <tr>\n",
       "      <th>Kreuzberg</th>\n",
       "      <td>2049.138085</td>\n",
       "      <td>92.258723</td>\n",
       "    </tr>\n",
       "    <tr>\n",
       "      <th>Köpenick</th>\n",
       "      <td>1125.475818</td>\n",
       "      <td>74.279273</td>\n",
       "    </tr>\n",
       "    <tr>\n",
       "      <th>Mitte</th>\n",
       "      <td>2408.725033</td>\n",
       "      <td>96.235556</td>\n",
       "    </tr>\n",
       "    <tr>\n",
       "      <th>Neukölln</th>\n",
       "      <td>1188.114915</td>\n",
       "      <td>69.849831</td>\n",
       "    </tr>\n",
       "    <tr>\n",
       "      <th>Prenzlauer</th>\n",
       "      <td>1996.962264</td>\n",
       "      <td>95.832264</td>\n",
       "    </tr>\n",
       "    <tr>\n",
       "      <th>Tiergarten</th>\n",
       "      <td>1914.824795</td>\n",
       "      <td>90.228304</td>\n",
       "    </tr>\n",
       "    <tr>\n",
       "      <th>Wedding</th>\n",
       "      <td>847.138571</td>\n",
       "      <td>46.928571</td>\n",
       "    </tr>\n",
       "    <tr>\n",
       "      <th>Wilmersdorf</th>\n",
       "      <td>1748.646226</td>\n",
       "      <td>85.536604</td>\n",
       "    </tr>\n",
       "  </tbody>\n",
       "</table>\n",
       "</div>"
      ],
      "text/plain": [
       "                        Rent      Space\n",
       "Region                                 \n",
       "Charlottenburg   1753.452532  88.083038\n",
       "Friedrichsfelde  1043.871731  66.145000\n",
       "Kreuzberg        2049.138085  92.258723\n",
       "Köpenick         1125.475818  74.279273\n",
       "Mitte            2408.725033  96.235556\n",
       "Neukölln         1188.114915  69.849831\n",
       "Prenzlauer       1996.962264  95.832264\n",
       "Tiergarten       1914.824795  90.228304\n",
       "Wedding           847.138571  46.928571\n",
       "Wilmersdorf      1748.646226  85.536604"
      ]
     },
     "execution_count": 12,
     "metadata": {},
     "output_type": "execute_result"
    }
   ],
   "source": [
    "rentals.groupby('Region')[['Rent','Space']].mean()\n"
   ]
  },
  {
   "cell_type": "code",
   "execution_count": 13,
   "id": "39e65076",
   "metadata": {},
   "outputs": [
    {
     "name": "stdout",
     "output_type": "stream",
     "text": [
      " Mitte is the most expensive region for average rent\n"
     ]
    }
   ],
   "source": [
    "print(f' Mitte is the most expensive region for average rent')"
   ]
  },
  {
   "cell_type": "markdown",
   "id": "73804865",
   "metadata": {},
   "source": [
    "### What is the mean rent for the different amount of rooms? \n",
    "\n",
    "### The mean rent for each room in Berlin is as follows:"
   ]
  },
  {
   "cell_type": "code",
   "execution_count": 14,
   "id": "7cbcf062",
   "metadata": {},
   "outputs": [
    {
     "data": {
      "text/html": [
       "<div>\n",
       "<style scoped>\n",
       "    .dataframe tbody tr th:only-of-type {\n",
       "        vertical-align: middle;\n",
       "    }\n",
       "\n",
       "    .dataframe tbody tr th {\n",
       "        vertical-align: top;\n",
       "    }\n",
       "\n",
       "    .dataframe thead th {\n",
       "        text-align: right;\n",
       "    }\n",
       "</style>\n",
       "<table border=\"1\" class=\"dataframe\">\n",
       "  <thead>\n",
       "    <tr style=\"text-align: right;\">\n",
       "      <th></th>\n",
       "      <th>Rent</th>\n",
       "    </tr>\n",
       "    <tr>\n",
       "      <th>Rooms</th>\n",
       "      <th></th>\n",
       "    </tr>\n",
       "  </thead>\n",
       "  <tbody>\n",
       "    <tr>\n",
       "      <th>1.0</th>\n",
       "      <td>833.258318</td>\n",
       "    </tr>\n",
       "    <tr>\n",
       "      <th>1.5</th>\n",
       "      <td>882.735556</td>\n",
       "    </tr>\n",
       "    <tr>\n",
       "      <th>2.0</th>\n",
       "      <td>1358.017786</td>\n",
       "    </tr>\n",
       "    <tr>\n",
       "      <th>2.5</th>\n",
       "      <td>1691.043750</td>\n",
       "    </tr>\n",
       "    <tr>\n",
       "      <th>3.0</th>\n",
       "      <td>2048.237042</td>\n",
       "    </tr>\n",
       "    <tr>\n",
       "      <th>3.5</th>\n",
       "      <td>1901.928750</td>\n",
       "    </tr>\n",
       "    <tr>\n",
       "      <th>4.0</th>\n",
       "      <td>2690.214242</td>\n",
       "    </tr>\n",
       "    <tr>\n",
       "      <th>4.5</th>\n",
       "      <td>1370.000000</td>\n",
       "    </tr>\n",
       "    <tr>\n",
       "      <th>5.0</th>\n",
       "      <td>4359.084211</td>\n",
       "    </tr>\n",
       "    <tr>\n",
       "      <th>6.0</th>\n",
       "      <td>3739.460000</td>\n",
       "    </tr>\n",
       "    <tr>\n",
       "      <th>7.0</th>\n",
       "      <td>5082.175000</td>\n",
       "    </tr>\n",
       "  </tbody>\n",
       "</table>\n",
       "</div>"
      ],
      "text/plain": [
       "              Rent\n",
       "Rooms             \n",
       "1.0     833.258318\n",
       "1.5     882.735556\n",
       "2.0    1358.017786\n",
       "2.5    1691.043750\n",
       "3.0    2048.237042\n",
       "3.5    1901.928750\n",
       "4.0    2690.214242\n",
       "4.5    1370.000000\n",
       "5.0    4359.084211\n",
       "6.0    3739.460000\n",
       "7.0    5082.175000"
      ]
     },
     "execution_count": 14,
     "metadata": {},
     "output_type": "execute_result"
    }
   ],
   "source": [
    "rentals.groupby('Rooms')[['Rent']].mean()"
   ]
  },
  {
   "cell_type": "code",
   "execution_count": 15,
   "id": "f045cd94",
   "metadata": {},
   "outputs": [
    {
     "data": {
      "text/plain": [
       "9"
      ]
     },
     "execution_count": 15,
     "metadata": {},
     "output_type": "execute_result"
    }
   ],
   "source": [
    "rentals.Condition.nunique()"
   ]
  },
  {
   "cell_type": "code",
   "execution_count": 16,
   "id": "f562d1aa",
   "metadata": {
    "scrolled": true
   },
   "outputs": [
    {
     "data": {
      "text/html": [
       "<div>\n",
       "<style scoped>\n",
       "    .dataframe tbody tr th:only-of-type {\n",
       "        vertical-align: middle;\n",
       "    }\n",
       "\n",
       "    .dataframe tbody tr th {\n",
       "        vertical-align: top;\n",
       "    }\n",
       "\n",
       "    .dataframe thead th {\n",
       "        text-align: right;\n",
       "    }\n",
       "</style>\n",
       "<table border=\"1\" class=\"dataframe\">\n",
       "  <thead>\n",
       "    <tr style=\"text-align: right;\">\n",
       "      <th></th>\n",
       "      <th>Rent</th>\n",
       "      <th>Rooms</th>\n",
       "    </tr>\n",
       "    <tr>\n",
       "      <th>Condition</th>\n",
       "      <th></th>\n",
       "      <th></th>\n",
       "    </tr>\n",
       "  </thead>\n",
       "  <tbody>\n",
       "    <tr>\n",
       "      <th>first_time_use</th>\n",
       "      <td>1866.564222</td>\n",
       "      <td>2.648148</td>\n",
       "    </tr>\n",
       "    <tr>\n",
       "      <th>first_time_use_after_refurbishment</th>\n",
       "      <td>1925.351944</td>\n",
       "      <td>2.875000</td>\n",
       "    </tr>\n",
       "    <tr>\n",
       "      <th>fully_renovated</th>\n",
       "      <td>1778.308571</td>\n",
       "      <td>2.514286</td>\n",
       "    </tr>\n",
       "    <tr>\n",
       "      <th>mint_condition</th>\n",
       "      <td>2122.196154</td>\n",
       "      <td>2.559441</td>\n",
       "    </tr>\n",
       "    <tr>\n",
       "      <th>modernized</th>\n",
       "      <td>1185.705172</td>\n",
       "      <td>2.500000</td>\n",
       "    </tr>\n",
       "    <tr>\n",
       "      <th>need_of_renovation</th>\n",
       "      <td>612.290000</td>\n",
       "      <td>2.125000</td>\n",
       "    </tr>\n",
       "    <tr>\n",
       "      <th>no_information</th>\n",
       "      <td>1544.274955</td>\n",
       "      <td>2.450450</td>\n",
       "    </tr>\n",
       "    <tr>\n",
       "      <th>refurbished</th>\n",
       "      <td>2177.256500</td>\n",
       "      <td>2.375000</td>\n",
       "    </tr>\n",
       "    <tr>\n",
       "      <th>well_kept</th>\n",
       "      <td>1217.096979</td>\n",
       "      <td>2.369792</td>\n",
       "    </tr>\n",
       "  </tbody>\n",
       "</table>\n",
       "</div>"
      ],
      "text/plain": [
       "                                           Rent     Rooms\n",
       "Condition                                                \n",
       "first_time_use                      1866.564222  2.648148\n",
       "first_time_use_after_refurbishment  1925.351944  2.875000\n",
       "fully_renovated                     1778.308571  2.514286\n",
       "mint_condition                      2122.196154  2.559441\n",
       "modernized                          1185.705172  2.500000\n",
       "need_of_renovation                   612.290000  2.125000\n",
       "no_information                      1544.274955  2.450450\n",
       "refurbished                         2177.256500  2.375000\n",
       "well_kept                           1217.096979  2.369792"
      ]
     },
     "execution_count": 16,
     "metadata": {},
     "output_type": "execute_result"
    }
   ],
   "source": [
    "rentals.groupby('Condition')[['Rent','Rooms']].mean()"
   ]
  },
  {
   "cell_type": "markdown",
   "id": "555e0705",
   "metadata": {},
   "source": [
    "### Which region has the best price per square meter? The cheapest square meter price?"
   ]
  },
  {
   "cell_type": "code",
   "execution_count": 17,
   "id": "6b57b067",
   "metadata": {
    "scrolled": true
   },
   "outputs": [
    {
     "data": {
      "text/html": [
       "<div>\n",
       "<style scoped>\n",
       "    .dataframe tbody tr th:only-of-type {\n",
       "        vertical-align: middle;\n",
       "    }\n",
       "\n",
       "    .dataframe tbody tr th {\n",
       "        vertical-align: top;\n",
       "    }\n",
       "\n",
       "    .dataframe thead th {\n",
       "        text-align: right;\n",
       "    }\n",
       "</style>\n",
       "<table border=\"1\" class=\"dataframe\">\n",
       "  <thead>\n",
       "    <tr style=\"text-align: right;\">\n",
       "      <th></th>\n",
       "      <th>Region</th>\n",
       "      <th>Condition</th>\n",
       "      <th>Rooms</th>\n",
       "      <th>Rent</th>\n",
       "      <th>Year_Construction</th>\n",
       "      <th>Space</th>\n",
       "      <th>per_sq_meter</th>\n",
       "    </tr>\n",
       "  </thead>\n",
       "  <tbody>\n",
       "    <tr>\n",
       "      <th>0</th>\n",
       "      <td>Mitte</td>\n",
       "      <td>first_time_use</td>\n",
       "      <td>4.0</td>\n",
       "      <td>2659.00</td>\n",
       "      <td>2019</td>\n",
       "      <td>117.20</td>\n",
       "      <td>22.687713</td>\n",
       "    </tr>\n",
       "    <tr>\n",
       "      <th>1</th>\n",
       "      <td>Kreuzberg</td>\n",
       "      <td>first_time_use</td>\n",
       "      <td>1.0</td>\n",
       "      <td>1200.00</td>\n",
       "      <td>2020</td>\n",
       "      <td>29.33</td>\n",
       "      <td>40.913740</td>\n",
       "    </tr>\n",
       "    <tr>\n",
       "      <th>2</th>\n",
       "      <td>Köpenick</td>\n",
       "      <td>well_kept</td>\n",
       "      <td>2.0</td>\n",
       "      <td>979.00</td>\n",
       "      <td>1997</td>\n",
       "      <td>83.61</td>\n",
       "      <td>11.709126</td>\n",
       "    </tr>\n",
       "    <tr>\n",
       "      <th>3</th>\n",
       "      <td>Wilmersdorf</td>\n",
       "      <td>well_kept</td>\n",
       "      <td>4.0</td>\n",
       "      <td>1830.22</td>\n",
       "      <td>1900</td>\n",
       "      <td>171.18</td>\n",
       "      <td>10.691786</td>\n",
       "    </tr>\n",
       "    <tr>\n",
       "      <th>4</th>\n",
       "      <td>Kreuzberg</td>\n",
       "      <td>first_time_use</td>\n",
       "      <td>2.0</td>\n",
       "      <td>2272.00</td>\n",
       "      <td>2020</td>\n",
       "      <td>88.27</td>\n",
       "      <td>25.739209</td>\n",
       "    </tr>\n",
       "  </tbody>\n",
       "</table>\n",
       "</div>"
      ],
      "text/plain": [
       "        Region       Condition  Rooms     Rent  Year_Construction   Space  \\\n",
       "0        Mitte  first_time_use    4.0  2659.00               2019  117.20   \n",
       "1    Kreuzberg  first_time_use    1.0  1200.00               2020   29.33   \n",
       "2     Köpenick       well_kept    2.0   979.00               1997   83.61   \n",
       "3  Wilmersdorf       well_kept    4.0  1830.22               1900  171.18   \n",
       "4    Kreuzberg  first_time_use    2.0  2272.00               2020   88.27   \n",
       "\n",
       "   per_sq_meter  \n",
       "0     22.687713  \n",
       "1     40.913740  \n",
       "2     11.709126  \n",
       "3     10.691786  \n",
       "4     25.739209  "
      ]
     },
     "execution_count": 17,
     "metadata": {},
     "output_type": "execute_result"
    }
   ],
   "source": [
    "rentals['per_sq_meter']=rentals.Rent/rentals.Space\n",
    "rentals.head()"
   ]
  },
  {
   "cell_type": "code",
   "execution_count": 18,
   "id": "9cdac964",
   "metadata": {},
   "outputs": [
    {
     "data": {
      "text/html": [
       "<div>\n",
       "<style scoped>\n",
       "    .dataframe tbody tr th:only-of-type {\n",
       "        vertical-align: middle;\n",
       "    }\n",
       "\n",
       "    .dataframe tbody tr th {\n",
       "        vertical-align: top;\n",
       "    }\n",
       "\n",
       "    .dataframe thead th {\n",
       "        text-align: right;\n",
       "    }\n",
       "</style>\n",
       "<table border=\"1\" class=\"dataframe\">\n",
       "  <thead>\n",
       "    <tr style=\"text-align: right;\">\n",
       "      <th></th>\n",
       "      <th>per_sq_meter</th>\n",
       "    </tr>\n",
       "    <tr>\n",
       "      <th>Region</th>\n",
       "      <th></th>\n",
       "    </tr>\n",
       "  </thead>\n",
       "  <tbody>\n",
       "    <tr>\n",
       "      <th>Charlottenburg</th>\n",
       "      <td>10.019263</td>\n",
       "    </tr>\n",
       "    <tr>\n",
       "      <th>Friedrichsfelde</th>\n",
       "      <td>7.829252</td>\n",
       "    </tr>\n",
       "    <tr>\n",
       "      <th>Kreuzberg</th>\n",
       "      <td>11.346000</td>\n",
       "    </tr>\n",
       "    <tr>\n",
       "      <th>Köpenick</th>\n",
       "      <td>10.066225</td>\n",
       "    </tr>\n",
       "    <tr>\n",
       "      <th>Mitte</th>\n",
       "      <td>15.120052</td>\n",
       "    </tr>\n",
       "    <tr>\n",
       "      <th>Neukölln</th>\n",
       "      <td>8.837969</td>\n",
       "    </tr>\n",
       "    <tr>\n",
       "      <th>Prenzlauer</th>\n",
       "      <td>10.002556</td>\n",
       "    </tr>\n",
       "    <tr>\n",
       "      <th>Tiergarten</th>\n",
       "      <td>8.696825</td>\n",
       "    </tr>\n",
       "    <tr>\n",
       "      <th>Wedding</th>\n",
       "      <td>7.950653</td>\n",
       "    </tr>\n",
       "    <tr>\n",
       "      <th>Wilmersdorf</th>\n",
       "      <td>10.691786</td>\n",
       "    </tr>\n",
       "  </tbody>\n",
       "</table>\n",
       "</div>"
      ],
      "text/plain": [
       "                 per_sq_meter\n",
       "Region                       \n",
       "Charlottenburg      10.019263\n",
       "Friedrichsfelde      7.829252\n",
       "Kreuzberg           11.346000\n",
       "Köpenick            10.066225\n",
       "Mitte               15.120052\n",
       "Neukölln             8.837969\n",
       "Prenzlauer          10.002556\n",
       "Tiergarten           8.696825\n",
       "Wedding              7.950653\n",
       "Wilmersdorf         10.691786"
      ]
     },
     "execution_count": 18,
     "metadata": {},
     "output_type": "execute_result"
    }
   ],
   "source": [
    "rentals.groupby('Region')[['per_sq_meter']].min()"
   ]
  },
  {
   "cell_type": "code",
   "execution_count": 19,
   "id": "418e8249",
   "metadata": {},
   "outputs": [],
   "source": [
    "#rentals[rentals['Region']]==[rentals['per_sq_meter']].min()"
   ]
  },
  {
   "cell_type": "code",
   "execution_count": 20,
   "id": "2fe653ad",
   "metadata": {},
   "outputs": [
    {
     "name": "stdout",
     "output_type": "stream",
     "text": [
      " The cheapest price is Friedrichsfelde.\n"
     ]
    }
   ],
   "source": [
    "print(f' The cheapest price is Friedrichsfelde.' )"
   ]
  },
  {
   "cell_type": "markdown",
   "id": "2b944d86",
   "metadata": {},
   "source": [
    "### Which region has on average the oldest buildings?"
   ]
  },
  {
   "cell_type": "code",
   "execution_count": 21,
   "id": "d2912583",
   "metadata": {
    "scrolled": true
   },
   "outputs": [
    {
     "data": {
      "text/html": [
       "<div>\n",
       "<style scoped>\n",
       "    .dataframe tbody tr th:only-of-type {\n",
       "        vertical-align: middle;\n",
       "    }\n",
       "\n",
       "    .dataframe tbody tr th {\n",
       "        vertical-align: top;\n",
       "    }\n",
       "\n",
       "    .dataframe thead th {\n",
       "        text-align: right;\n",
       "    }\n",
       "</style>\n",
       "<table border=\"1\" class=\"dataframe\">\n",
       "  <thead>\n",
       "    <tr style=\"text-align: right;\">\n",
       "      <th></th>\n",
       "      <th>Region</th>\n",
       "      <th>Condition</th>\n",
       "      <th>Rooms</th>\n",
       "      <th>Rent</th>\n",
       "      <th>Year_Construction</th>\n",
       "      <th>Space</th>\n",
       "      <th>per_sq_meter</th>\n",
       "      <th>Age</th>\n",
       "    </tr>\n",
       "  </thead>\n",
       "  <tbody>\n",
       "    <tr>\n",
       "      <th>0</th>\n",
       "      <td>Mitte</td>\n",
       "      <td>first_time_use</td>\n",
       "      <td>4.0</td>\n",
       "      <td>2659.0</td>\n",
       "      <td>2019</td>\n",
       "      <td>117.20</td>\n",
       "      <td>22.687713</td>\n",
       "      <td>2</td>\n",
       "    </tr>\n",
       "    <tr>\n",
       "      <th>1</th>\n",
       "      <td>Kreuzberg</td>\n",
       "      <td>first_time_use</td>\n",
       "      <td>1.0</td>\n",
       "      <td>1200.0</td>\n",
       "      <td>2020</td>\n",
       "      <td>29.33</td>\n",
       "      <td>40.913740</td>\n",
       "      <td>1</td>\n",
       "    </tr>\n",
       "  </tbody>\n",
       "</table>\n",
       "</div>"
      ],
      "text/plain": [
       "      Region       Condition  Rooms    Rent  Year_Construction   Space  \\\n",
       "0      Mitte  first_time_use    4.0  2659.0               2019  117.20   \n",
       "1  Kreuzberg  first_time_use    1.0  1200.0               2020   29.33   \n",
       "\n",
       "   per_sq_meter  Age  \n",
       "0     22.687713    2  \n",
       "1     40.913740    1  "
      ]
     },
     "execution_count": 21,
     "metadata": {},
     "output_type": "execute_result"
    }
   ],
   "source": [
    "rentals['Age']=2021-rentals.Year_Construction\n",
    "rentals.head(2)"
   ]
  },
  {
   "cell_type": "code",
   "execution_count": 22,
   "id": "e24af206",
   "metadata": {},
   "outputs": [
    {
     "data": {
      "text/html": [
       "<div>\n",
       "<style scoped>\n",
       "    .dataframe tbody tr th:only-of-type {\n",
       "        vertical-align: middle;\n",
       "    }\n",
       "\n",
       "    .dataframe tbody tr th {\n",
       "        vertical-align: top;\n",
       "    }\n",
       "\n",
       "    .dataframe thead th {\n",
       "        text-align: right;\n",
       "    }\n",
       "</style>\n",
       "<table border=\"1\" class=\"dataframe\">\n",
       "  <thead>\n",
       "    <tr style=\"text-align: right;\">\n",
       "      <th></th>\n",
       "      <th>Age</th>\n",
       "    </tr>\n",
       "    <tr>\n",
       "      <th>Region</th>\n",
       "      <th></th>\n",
       "    </tr>\n",
       "  </thead>\n",
       "  <tbody>\n",
       "    <tr>\n",
       "      <th>Charlottenburg</th>\n",
       "      <td>51.012658</td>\n",
       "    </tr>\n",
       "    <tr>\n",
       "      <th>Friedrichsfelde</th>\n",
       "      <td>18.461538</td>\n",
       "    </tr>\n",
       "    <tr>\n",
       "      <th>Kreuzberg</th>\n",
       "      <td>43.127660</td>\n",
       "    </tr>\n",
       "    <tr>\n",
       "      <th>Köpenick</th>\n",
       "      <td>37.890909</td>\n",
       "    </tr>\n",
       "    <tr>\n",
       "      <th>Mitte</th>\n",
       "      <td>20.078431</td>\n",
       "    </tr>\n",
       "    <tr>\n",
       "      <th>Neukölln</th>\n",
       "      <td>57.474576</td>\n",
       "    </tr>\n",
       "    <tr>\n",
       "      <th>Prenzlauer</th>\n",
       "      <td>63.849057</td>\n",
       "    </tr>\n",
       "    <tr>\n",
       "      <th>Tiergarten</th>\n",
       "      <td>28.140351</td>\n",
       "    </tr>\n",
       "    <tr>\n",
       "      <th>Wedding</th>\n",
       "      <td>43.785714</td>\n",
       "    </tr>\n",
       "    <tr>\n",
       "      <th>Wilmersdorf</th>\n",
       "      <td>54.754717</td>\n",
       "    </tr>\n",
       "  </tbody>\n",
       "</table>\n",
       "</div>"
      ],
      "text/plain": [
       "                       Age\n",
       "Region                    \n",
       "Charlottenburg   51.012658\n",
       "Friedrichsfelde  18.461538\n",
       "Kreuzberg        43.127660\n",
       "Köpenick         37.890909\n",
       "Mitte            20.078431\n",
       "Neukölln         57.474576\n",
       "Prenzlauer       63.849057\n",
       "Tiergarten       28.140351\n",
       "Wedding          43.785714\n",
       "Wilmersdorf      54.754717"
      ]
     },
     "execution_count": 22,
     "metadata": {},
     "output_type": "execute_result"
    }
   ],
   "source": [
    "rentals.groupby('Region')[['Age']].mean()"
   ]
  },
  {
   "cell_type": "markdown",
   "id": "cf19a703",
   "metadata": {},
   "source": [
    "#### The region with the average oldest building is Prenzlauer."
   ]
  },
  {
   "cell_type": "markdown",
   "id": "3d02eb79",
   "metadata": {},
   "source": [
    "### Which region has the best \"in shape\" flats to offer?"
   ]
  },
  {
   "cell_type": "code",
   "execution_count": 23,
   "id": "96b49edd",
   "metadata": {},
   "outputs": [
    {
     "data": {
      "text/html": [
       "<div>\n",
       "<style scoped>\n",
       "    .dataframe tbody tr th:only-of-type {\n",
       "        vertical-align: middle;\n",
       "    }\n",
       "\n",
       "    .dataframe tbody tr th {\n",
       "        vertical-align: top;\n",
       "    }\n",
       "\n",
       "    .dataframe thead th {\n",
       "        text-align: right;\n",
       "    }\n",
       "</style>\n",
       "<table border=\"1\" class=\"dataframe\">\n",
       "  <thead>\n",
       "    <tr style=\"text-align: right;\">\n",
       "      <th></th>\n",
       "      <th>Region</th>\n",
       "      <th>Condition</th>\n",
       "      <th>Rooms</th>\n",
       "      <th>Rent</th>\n",
       "      <th>Year_Construction</th>\n",
       "      <th>Space</th>\n",
       "      <th>per_sq_meter</th>\n",
       "      <th>Age</th>\n",
       "    </tr>\n",
       "  </thead>\n",
       "  <tbody>\n",
       "    <tr>\n",
       "      <th>0</th>\n",
       "      <td>Mitte</td>\n",
       "      <td>first_time_use</td>\n",
       "      <td>4.0</td>\n",
       "      <td>2659.00</td>\n",
       "      <td>2019</td>\n",
       "      <td>117.20</td>\n",
       "      <td>22.687713</td>\n",
       "      <td>2</td>\n",
       "    </tr>\n",
       "    <tr>\n",
       "      <th>1</th>\n",
       "      <td>Kreuzberg</td>\n",
       "      <td>first_time_use</td>\n",
       "      <td>1.0</td>\n",
       "      <td>1200.00</td>\n",
       "      <td>2020</td>\n",
       "      <td>29.33</td>\n",
       "      <td>40.913740</td>\n",
       "      <td>1</td>\n",
       "    </tr>\n",
       "    <tr>\n",
       "      <th>2</th>\n",
       "      <td>Köpenick</td>\n",
       "      <td>well_kept</td>\n",
       "      <td>2.0</td>\n",
       "      <td>979.00</td>\n",
       "      <td>1997</td>\n",
       "      <td>83.61</td>\n",
       "      <td>11.709126</td>\n",
       "      <td>24</td>\n",
       "    </tr>\n",
       "    <tr>\n",
       "      <th>3</th>\n",
       "      <td>Wilmersdorf</td>\n",
       "      <td>well_kept</td>\n",
       "      <td>4.0</td>\n",
       "      <td>1830.22</td>\n",
       "      <td>1900</td>\n",
       "      <td>171.18</td>\n",
       "      <td>10.691786</td>\n",
       "      <td>121</td>\n",
       "    </tr>\n",
       "    <tr>\n",
       "      <th>4</th>\n",
       "      <td>Kreuzberg</td>\n",
       "      <td>first_time_use</td>\n",
       "      <td>2.0</td>\n",
       "      <td>2272.00</td>\n",
       "      <td>2020</td>\n",
       "      <td>88.27</td>\n",
       "      <td>25.739209</td>\n",
       "      <td>1</td>\n",
       "    </tr>\n",
       "    <tr>\n",
       "      <th>...</th>\n",
       "      <td>...</td>\n",
       "      <td>...</td>\n",
       "      <td>...</td>\n",
       "      <td>...</td>\n",
       "      <td>...</td>\n",
       "      <td>...</td>\n",
       "      <td>...</td>\n",
       "      <td>...</td>\n",
       "    </tr>\n",
       "    <tr>\n",
       "      <th>759</th>\n",
       "      <td>Wedding</td>\n",
       "      <td>mint_condition</td>\n",
       "      <td>1.0</td>\n",
       "      <td>959.00</td>\n",
       "      <td>2017</td>\n",
       "      <td>27.80</td>\n",
       "      <td>34.496403</td>\n",
       "      <td>4</td>\n",
       "    </tr>\n",
       "    <tr>\n",
       "      <th>760</th>\n",
       "      <td>Wedding</td>\n",
       "      <td>mint_condition</td>\n",
       "      <td>1.0</td>\n",
       "      <td>649.00</td>\n",
       "      <td>2017</td>\n",
       "      <td>20.50</td>\n",
       "      <td>31.658537</td>\n",
       "      <td>4</td>\n",
       "    </tr>\n",
       "    <tr>\n",
       "      <th>761</th>\n",
       "      <td>Wilmersdorf</td>\n",
       "      <td>mint_condition</td>\n",
       "      <td>4.0</td>\n",
       "      <td>2750.00</td>\n",
       "      <td>2017</td>\n",
       "      <td>110.00</td>\n",
       "      <td>25.000000</td>\n",
       "      <td>4</td>\n",
       "    </tr>\n",
       "    <tr>\n",
       "      <th>762</th>\n",
       "      <td>Köpenick</td>\n",
       "      <td>well_kept</td>\n",
       "      <td>2.0</td>\n",
       "      <td>1259.00</td>\n",
       "      <td>2017</td>\n",
       "      <td>91.20</td>\n",
       "      <td>13.804825</td>\n",
       "      <td>4</td>\n",
       "    </tr>\n",
       "    <tr>\n",
       "      <th>763</th>\n",
       "      <td>Neukölln</td>\n",
       "      <td>fully_renovated</td>\n",
       "      <td>2.0</td>\n",
       "      <td>888.00</td>\n",
       "      <td>1990</td>\n",
       "      <td>68.48</td>\n",
       "      <td>12.967290</td>\n",
       "      <td>31</td>\n",
       "    </tr>\n",
       "  </tbody>\n",
       "</table>\n",
       "<p>649 rows × 8 columns</p>\n",
       "</div>"
      ],
      "text/plain": [
       "          Region        Condition  Rooms     Rent  Year_Construction   Space  \\\n",
       "0          Mitte   first_time_use    4.0  2659.00               2019  117.20   \n",
       "1      Kreuzberg   first_time_use    1.0  1200.00               2020   29.33   \n",
       "2       Köpenick        well_kept    2.0   979.00               1997   83.61   \n",
       "3    Wilmersdorf        well_kept    4.0  1830.22               1900  171.18   \n",
       "4      Kreuzberg   first_time_use    2.0  2272.00               2020   88.27   \n",
       "..           ...              ...    ...      ...                ...     ...   \n",
       "759      Wedding   mint_condition    1.0   959.00               2017   27.80   \n",
       "760      Wedding   mint_condition    1.0   649.00               2017   20.50   \n",
       "761  Wilmersdorf   mint_condition    4.0  2750.00               2017  110.00   \n",
       "762     Köpenick        well_kept    2.0  1259.00               2017   91.20   \n",
       "763     Neukölln  fully_renovated    2.0   888.00               1990   68.48   \n",
       "\n",
       "     per_sq_meter  Age  \n",
       "0       22.687713    2  \n",
       "1       40.913740    1  \n",
       "2       11.709126   24  \n",
       "3       10.691786  121  \n",
       "4       25.739209    1  \n",
       "..            ...  ...  \n",
       "759     34.496403    4  \n",
       "760     31.658537    4  \n",
       "761     25.000000    4  \n",
       "762     13.804825    4  \n",
       "763     12.967290   31  \n",
       "\n",
       "[649 rows x 8 columns]"
      ]
     },
     "execution_count": 23,
     "metadata": {},
     "output_type": "execute_result"
    }
   ],
   "source": [
    "in_shape=rentals.query('Condition!=\"need_of_renovation\" & Condition!=\"no_information\"')\n",
    "in_shape"
   ]
  },
  {
   "cell_type": "code",
   "execution_count": 75,
   "id": "2810d628",
   "metadata": {
    "scrolled": true
   },
   "outputs": [
    {
     "data": {
      "text/html": [
       "<div>\n",
       "<style scoped>\n",
       "    .dataframe tbody tr th:only-of-type {\n",
       "        vertical-align: middle;\n",
       "    }\n",
       "\n",
       "    .dataframe tbody tr th {\n",
       "        vertical-align: top;\n",
       "    }\n",
       "\n",
       "    .dataframe thead tr th {\n",
       "        text-align: left;\n",
       "    }\n",
       "\n",
       "    .dataframe thead tr:last-of-type th {\n",
       "        text-align: right;\n",
       "    }\n",
       "</style>\n",
       "<table border=\"1\" class=\"dataframe\">\n",
       "  <thead>\n",
       "    <tr>\n",
       "      <th></th>\n",
       "      <th></th>\n",
       "      <th>Rent</th>\n",
       "    </tr>\n",
       "    <tr>\n",
       "      <th></th>\n",
       "      <th></th>\n",
       "      <th>count</th>\n",
       "    </tr>\n",
       "    <tr>\n",
       "      <th>Region</th>\n",
       "      <th>Condition</th>\n",
       "      <th></th>\n",
       "    </tr>\n",
       "  </thead>\n",
       "  <tbody>\n",
       "    <tr>\n",
       "      <th rowspan=\"5\" valign=\"top\">Charlottenburg</th>\n",
       "      <th>first_time_use</th>\n",
       "      <td>27</td>\n",
       "    </tr>\n",
       "    <tr>\n",
       "      <th>first_time_use_after_refurbishment</th>\n",
       "      <td>7</td>\n",
       "    </tr>\n",
       "    <tr>\n",
       "      <th>fully_renovated</th>\n",
       "      <td>5</td>\n",
       "    </tr>\n",
       "    <tr>\n",
       "      <th>mint_condition</th>\n",
       "      <td>9</td>\n",
       "    </tr>\n",
       "    <tr>\n",
       "      <th>modernized</th>\n",
       "      <td>4</td>\n",
       "    </tr>\n",
       "    <tr>\n",
       "      <th>...</th>\n",
       "      <th>...</th>\n",
       "      <td>...</td>\n",
       "    </tr>\n",
       "    <tr>\n",
       "      <th rowspan=\"5\" valign=\"top\">Wilmersdorf</th>\n",
       "      <th>fully_renovated</th>\n",
       "      <td>3</td>\n",
       "    </tr>\n",
       "    <tr>\n",
       "      <th>mint_condition</th>\n",
       "      <td>6</td>\n",
       "    </tr>\n",
       "    <tr>\n",
       "      <th>modernized</th>\n",
       "      <td>1</td>\n",
       "    </tr>\n",
       "    <tr>\n",
       "      <th>refurbished</th>\n",
       "      <td>3</td>\n",
       "    </tr>\n",
       "    <tr>\n",
       "      <th>well_kept</th>\n",
       "      <td>11</td>\n",
       "    </tr>\n",
       "  </tbody>\n",
       "</table>\n",
       "<p>66 rows × 1 columns</p>\n",
       "</div>"
      ],
      "text/plain": [
       "                                                   Rent\n",
       "                                                  count\n",
       "Region         Condition                               \n",
       "Charlottenburg first_time_use                        27\n",
       "               first_time_use_after_refurbishment     7\n",
       "               fully_renovated                        5\n",
       "               mint_condition                         9\n",
       "               modernized                             4\n",
       "...                                                 ...\n",
       "Wilmersdorf    fully_renovated                        3\n",
       "               mint_condition                         6\n",
       "               modernized                             1\n",
       "               refurbished                            3\n",
       "               well_kept                             11\n",
       "\n",
       "[66 rows x 1 columns]"
      ]
     },
     "execution_count": 75,
     "metadata": {},
     "output_type": "execute_result"
    }
   ],
   "source": [
    "\n",
    "pd.set_option('display.max_rows',65)\n",
    "\n",
    "\n",
    "sort_shape=in_shape.groupby(['Region','Condition'])[['Rent']].agg(['count'])\n",
    "sort_shape.shape"
   ]
  },
  {
   "cell_type": "code",
   "execution_count": 24,
   "id": "fff7a55d",
   "metadata": {
    "scrolled": true
   },
   "outputs": [],
   "source": [
    "#for region in in_shape.Region:\n",
    "    #plt.pie(region, labels = in_shape.Condition, autopct='%.0f%%')\n",
    "    #plt.show()"
   ]
  },
  {
   "cell_type": "code",
   "execution_count": 83,
   "id": "51ee660f",
   "metadata": {},
   "outputs": [
    {
     "data": {
      "text/plain": [
       "RangeIndex(start=0, stop=15, step=1)"
      ]
     },
     "execution_count": 83,
     "metadata": {},
     "output_type": "execute_result"
    }
   ],
   "source": [
    "sort_shape.index"
   ]
  },
  {
   "cell_type": "code",
   "execution_count": 82,
   "id": "d2a98b6b",
   "metadata": {},
   "outputs": [
    {
     "name": "stdout",
     "output_type": "stream",
     "text": [
      "<class 'pandas.core.frame.DataFrame'>\n",
      "RangeIndex: 15 entries, 0 to 14\n",
      "Data columns (total 2 columns):\n",
      " #   Column     Non-Null Count  Dtype  \n",
      "---  ------     --------------  -----  \n",
      " 0   Region     15 non-null     float64\n",
      " 1   Condition  15 non-null     float64\n",
      "dtypes: float64(2)\n",
      "memory usage: 368.0 bytes\n"
     ]
    }
   ],
   "source": [
    "sort_shape.info()"
   ]
  },
  {
   "cell_type": "code",
   "execution_count": 73,
   "id": "8dddfc24",
   "metadata": {},
   "outputs": [
    {
     "data": {
      "text/plain": [
       "Rent  count    66\n",
       "dtype: int64"
      ]
     },
     "execution_count": 73,
     "metadata": {},
     "output_type": "execute_result"
    }
   ],
   "source": [
    "sort_shape.count()"
   ]
  },
  {
   "cell_type": "code",
   "execution_count": 81,
   "id": "d7a997ff",
   "metadata": {},
   "outputs": [
    {
     "data": {
      "image/png": "[encoded data removed]",
      "text/plain": [
       "<Figure size 432x288 with 1 Axes>"
      ]
     },
     "metadata": {},
     "output_type": "display_data"
    }
   ],
   "source": [
    "import matplotlib.pyplot as plt\n",
    "plt.pie(sort_shape.Region, labels = sort_shape.Condition, autopct='%.0f%%')\n",
    "plt.show()"
   ]
  },
  {
   "cell_type": "code",
   "execution_count": 76,
   "id": "8e1b00b2",
   "metadata": {},
   "outputs": [
    {
     "data": {
      "text/plain": [
       "<AxesSubplot:>"
      ]
     },
     "execution_count": 76,
     "metadata": {},
     "output_type": "execute_result"
    },
    {
     "data": {
      "image/png": "[encoded data removed]",
      "text/plain": [
       "<Figure size 432x288 with 1 Axes>"
      ]
     },
     "metadata": {
      "needs_background": "light"
     },
     "output_type": "display_data"
    }
   ],
   "source": [
    "sort_shape = pd.DataFrame(np.random.rand(15, 2), columns=[\"Region\", \"Condition\"])\n",
    "\n",
    "sort_shape.plot.bar()\n"
   ]
  },
  {
   "cell_type": "code",
   "execution_count": 67,
   "id": "f4be0b10",
   "metadata": {
    "scrolled": false
   },
   "outputs": [
    {
     "data": {
      "text/plain": [
       "<AxesSubplot:xlabel='Condition', ylabel='Region'>"
      ]
     },
     "execution_count": 67,
     "metadata": {},
     "output_type": "execute_result"
    },
    {
     "data": {
      "image/png": "[encoded data removed]",
      "text/plain": [
       "<Figure size 432x288 with 1 Axes>"
      ]
     },
     "metadata": {
      "needs_background": "light"
     },
     "output_type": "display_data"
    }
   ],
   "source": [
    "sns.histplot(data=in_shape, x='Condition', y='Region')"
   ]
  },
  {
   "cell_type": "code",
   "execution_count": 11,
   "id": "cde31699",
   "metadata": {},
   "outputs": [
    {
     "data": {
      "text/plain": [
       "1650.00    7\n",
       "1200.00    7\n",
       "1800.00    6\n",
       "1500.00    6\n",
       "1300.00    5\n",
       "          ..\n",
       "1777.00    1\n",
       "1093.16    1\n",
       "1629.00    1\n",
       "1394.00    1\n",
       "2150.00    1\n",
       "Name: Rent, Length: 639, dtype: int64"
      ]
     },
     "execution_count": 11,
     "metadata": {},
     "output_type": "execute_result"
    },
    {
     "data": {
      "image/png": "[encoded data removed]",
      "text/plain": [
       "<Figure size 432x288 with 1 Axes>"
      ]
     },
     "metadata": {
      "needs_background": "light"
     },
     "output_type": "display_data"
    }
   ],
   "source": [
    "rentals[\"Rent\"].plot.hist()\n",
    "rentals[\"Rent\"].value_counts()\n"
   ]
  },
  {
   "cell_type": "code",
   "execution_count": 12,
   "id": "f931a233",
   "metadata": {},
   "outputs": [
    {
     "data": {
      "text/plain": [
       "<AxesSubplot:xlabel='Rent', ylabel='Region'>"
      ]
     },
     "execution_count": 12,
     "metadata": {},
     "output_type": "execute_result"
    },
    {
     "data": {
      "image/png": "[encoded data removed]",
      "text/plain": [
       "<Figure size 432x288 with 1 Axes>"
      ]
     },
     "metadata": {
      "needs_background": "light"
     },
     "output_type": "display_data"
    }
   ],
   "source": [
    "sns.histplot(rentals, x='Rent', y='Region')"
   ]
  },
  {
   "cell_type": "code",
   "execution_count": 13,
   "id": "b9fed15a",
   "metadata": {},
   "outputs": [
    {
     "data": {
      "text/plain": [
       "<seaborn.axisgrid.JointGrid at 0x210213cd9d0>"
      ]
     },
     "execution_count": 13,
     "metadata": {},
     "output_type": "execute_result"
    },
    {
     "data": {
      "image/png": "[encoded data removed]",
      "text/plain": [
       "<Figure size 432x432 with 3 Axes>"
      ]
     },
     "metadata": {
      "needs_background": "light"
     },
     "output_type": "display_data"
    }
   ],
   "source": [
    "sns.jointplot(data=rentals,y='Region',x='Rent')"
   ]
  },
  {
   "cell_type": "markdown",
   "id": "b092f9c1",
   "metadata": {},
   "source": [
    "### We have to know if Rooms are in the regions and then to check rent in each region as well."
   ]
  },
  {
   "cell_type": "code",
   "execution_count": 14,
   "id": "02a14e0f",
   "metadata": {},
   "outputs": [
    {
     "data": {
      "text/plain": [
       "<AxesSubplot:xlabel='Rooms', ylabel='Region'>"
      ]
     },
     "execution_count": 14,
     "metadata": {},
     "output_type": "execute_result"
    },
    {
     "data": {
      "image/png": "[encoded data removed]",
      "text/plain": [
       "<Figure size 432x288 with 1 Axes>"
      ]
     },
     "metadata": {
      "needs_background": "light"
     },
     "output_type": "display_data"
    }
   ],
   "source": [
    "sns.barplot(\n",
    "    x='Rooms',\n",
    "    y='Region',\n",
    "    data=rentals\n",
    ")"
   ]
  },
  {
   "cell_type": "code",
   "execution_count": 15,
   "id": "011a2bc7",
   "metadata": {},
   "outputs": [
    {
     "data": {
      "text/plain": [
       "<AxesSubplot:xlabel='Rent', ylabel='Region'>"
      ]
     },
     "execution_count": 15,
     "metadata": {},
     "output_type": "execute_result"
    },
    {
     "data": {
      "image/png": "[encoded data removed]",
      "text/plain": [
       "<Figure size 432x288 with 1 Axes>"
      ]
     },
     "metadata": {
      "needs_background": "light"
     },
     "output_type": "display_data"
    }
   ],
   "source": [
    "sns.barplot(\n",
    "    x='Rent',\n",
    "    y='Region',\n",
    "    data=rentals\n",
    ")"
   ]
  },
  {
   "cell_type": "code",
   "execution_count": 16,
   "id": "1b121629",
   "metadata": {},
   "outputs": [],
   "source": [
    "#### Regions affect rent in Berlin, as we see clearly."
   ]
  },
  {
   "cell_type": "code",
   "execution_count": 17,
   "id": "6f52c3d0",
   "metadata": {},
   "outputs": [
    {
     "data": {
      "text/plain": [
       "<AxesSubplot:xlabel='Rent', ylabel='Condition'>"
      ]
     },
     "execution_count": 17,
     "metadata": {},
     "output_type": "execute_result"
    },
    {
     "data": {
      "image/png": "[encoded data removed]",
      "text/plain": [
       "<Figure size 432x288 with 1 Axes>"
      ]
     },
     "metadata": {
      "needs_background": "light"
     },
     "output_type": "display_data"
    }
   ],
   "source": [
    "sns.barplot(\n",
    "    x='Rent',\n",
    "    y='Condition',\n",
    "    data=rentals\n",
    ")"
   ]
  },
  {
   "cell_type": "code",
   "execution_count": 18,
   "id": "cdc92782",
   "metadata": {},
   "outputs": [
    {
     "data": {
      "text/html": [
       "<div>\n",
       "<style scoped>\n",
       "    .dataframe tbody tr th:only-of-type {\n",
       "        vertical-align: middle;\n",
       "    }\n",
       "\n",
       "    .dataframe tbody tr th {\n",
       "        vertical-align: top;\n",
       "    }\n",
       "\n",
       "    .dataframe thead th {\n",
       "        text-align: right;\n",
       "    }\n",
       "</style>\n",
       "<table border=\"1\" class=\"dataframe\">\n",
       "  <thead>\n",
       "    <tr style=\"text-align: right;\">\n",
       "      <th></th>\n",
       "      <th>Rooms</th>\n",
       "      <th>Condition</th>\n",
       "      <th>Rent</th>\n",
       "    </tr>\n",
       "  </thead>\n",
       "  <tbody>\n",
       "    <tr>\n",
       "      <th>0</th>\n",
       "      <td>4.0</td>\n",
       "      <td>first_time_use</td>\n",
       "      <td>2659.0</td>\n",
       "    </tr>\n",
       "    <tr>\n",
       "      <th>1</th>\n",
       "      <td>1.0</td>\n",
       "      <td>first_time_use</td>\n",
       "      <td>1200.0</td>\n",
       "    </tr>\n",
       "  </tbody>\n",
       "</table>\n",
       "</div>"
      ],
      "text/plain": [
       "   Rooms       Condition    Rent\n",
       "0    4.0  first_time_use  2659.0\n",
       "1    1.0  first_time_use  1200.0"
      ]
     },
     "execution_count": 18,
     "metadata": {},
     "output_type": "execute_result"
    }
   ],
   "source": [
    "df_rents=rentals[['Rooms','Condition','Rent']]\n",
    "df_rents.head(2)"
   ]
  },
  {
   "cell_type": "code",
   "execution_count": 19,
   "id": "fe7e31c6",
   "metadata": {},
   "outputs": [
    {
     "data": {
      "text/plain": [
       "<AxesSubplot:xlabel='Rooms', ylabel='Condition'>"
      ]
     },
     "execution_count": 19,
     "metadata": {},
     "output_type": "execute_result"
    },
    {
     "data": {
      "image/png": "[encoded data removed]",
      "text/plain": [
       "<Figure size 432x288 with 1 Axes>"
      ]
     },
     "metadata": {
      "needs_background": "light"
     },
     "output_type": "display_data"
    }
   ],
   "source": [
    "sns.barplot(\n",
    "    x='Rooms',\n",
    "    y='Condition',\n",
    "    data=rentals\n",
    ")"
   ]
  },
  {
   "cell_type": "code",
   "execution_count": 20,
   "id": "18704685",
   "metadata": {},
   "outputs": [
    {
     "data": {
      "text/plain": [
       "<AxesSubplot:xlabel='Rent', ylabel='Rooms'>"
      ]
     },
     "execution_count": 20,
     "metadata": {},
     "output_type": "execute_result"
    },
    {
     "data": {
      "image/png": "[encoded data removed]",
      "text/plain": [
       "<Figure size 432x288 with 1 Axes>"
      ]
     },
     "metadata": {
      "needs_background": "light"
     },
     "output_type": "display_data"
    }
   ],
   "source": [
    "sns.lineplot(x='Rent', y='Rooms', data=rentals)"
   ]
  },
  {
   "cell_type": "markdown",
   "id": "9cdff383",
   "metadata": {},
   "source": [
    "#### Comparing Rent,Room,Condition with Space side by side; we have a relation. Used a DataFrame multiple barplot where 10 is 0 to 9 and 5 is the number of columns."
   ]
  },
  {
   "cell_type": "code",
   "execution_count": 30,
   "id": "ce3b0e80",
   "metadata": {},
   "outputs": [
    {
     "data": {
      "text/plain": [
       "<AxesSubplot:>"
      ]
     },
     "execution_count": 30,
     "metadata": {},
     "output_type": "execute_result"
    },
    {
     "data": {
      "image/png": "[encoded data removed]",
      "text/plain": [
       "<Figure size 432x288 with 1 Axes>"
      ]
     },
     "metadata": {
      "needs_background": "light"
     },
     "output_type": "display_data"
    }
   ],
   "source": [
    "rentals = pd.DataFrame(np.random.rand(10, 5), columns=[\"Rent\", \"Room\", \"Condition\", \"Space\",\"Year_Construction\"])\n",
    "\n",
    "rentals.plot.bar()\n"
   ]
  },
  {
   "cell_type": "code",
   "execution_count": 31,
   "id": "ebd3d18f",
   "metadata": {},
   "outputs": [
    {
     "data": {
      "text/plain": [
       "<AxesSubplot:>"
      ]
     },
     "execution_count": 31,
     "metadata": {},
     "output_type": "execute_result"
    },
    {
     "data": {
      "image/png": "[encoded data removed]",
      "text/plain": [
       "<Figure size 432x288 with 1 Axes>"
      ]
     },
     "metadata": {
      "needs_background": "light"
     },
     "output_type": "display_data"
    }
   ],
   "source": [
    "rentals = pd.DataFrame(np.random.rand(10, 6), columns=[\"Rent\", \"Room\", \"Condition\", \"Space\",\"Year_Construction\",\"Region\"])\n",
    "\n",
    "rentals.plot.bar()"
   ]
  },
  {
   "cell_type": "code",
   "execution_count": 33,
   "id": "7ee86279",
   "metadata": {},
   "outputs": [
    {
     "data": {
      "text/html": [
       "<div>\n",
       "<style scoped>\n",
       "    .dataframe tbody tr th:only-of-type {\n",
       "        vertical-align: middle;\n",
       "    }\n",
       "\n",
       "    .dataframe tbody tr th {\n",
       "        vertical-align: top;\n",
       "    }\n",
       "\n",
       "    .dataframe thead th {\n",
       "        text-align: right;\n",
       "    }\n",
       "</style>\n",
       "<table border=\"1\" class=\"dataframe\">\n",
       "  <thead>\n",
       "    <tr style=\"text-align: right;\">\n",
       "      <th></th>\n",
       "      <th>mean</th>\n",
       "      <th>max</th>\n",
       "      <th>min</th>\n",
       "    </tr>\n",
       "    <tr>\n",
       "      <th>Condition</th>\n",
       "      <th></th>\n",
       "      <th></th>\n",
       "      <th></th>\n",
       "    </tr>\n",
       "  </thead>\n",
       "  <tbody>\n",
       "    <tr>\n",
       "      <th>0.354123</th>\n",
       "      <td>0.802215</td>\n",
       "      <td>0.802215</td>\n",
       "      <td>0.802215</td>\n",
       "    </tr>\n",
       "    <tr>\n",
       "      <th>0.425936</th>\n",
       "      <td>0.578769</td>\n",
       "      <td>0.578769</td>\n",
       "      <td>0.578769</td>\n",
       "    </tr>\n",
       "    <tr>\n",
       "      <th>0.475520</th>\n",
       "      <td>0.454558</td>\n",
       "      <td>0.454558</td>\n",
       "      <td>0.454558</td>\n",
       "    </tr>\n",
       "    <tr>\n",
       "      <th>0.502134</th>\n",
       "      <td>0.739618</td>\n",
       "      <td>0.739618</td>\n",
       "      <td>0.739618</td>\n",
       "    </tr>\n",
       "    <tr>\n",
       "      <th>0.524956</th>\n",
       "      <td>0.009592</td>\n",
       "      <td>0.009592</td>\n",
       "      <td>0.009592</td>\n",
       "    </tr>\n",
       "    <tr>\n",
       "      <th>0.598830</th>\n",
       "      <td>0.451828</td>\n",
       "      <td>0.451828</td>\n",
       "      <td>0.451828</td>\n",
       "    </tr>\n",
       "    <tr>\n",
       "      <th>0.676074</th>\n",
       "      <td>0.146974</td>\n",
       "      <td>0.146974</td>\n",
       "      <td>0.146974</td>\n",
       "    </tr>\n",
       "    <tr>\n",
       "      <th>0.721515</th>\n",
       "      <td>0.254585</td>\n",
       "      <td>0.254585</td>\n",
       "      <td>0.254585</td>\n",
       "    </tr>\n",
       "    <tr>\n",
       "      <th>0.786564</th>\n",
       "      <td>0.244921</td>\n",
       "      <td>0.244921</td>\n",
       "      <td>0.244921</td>\n",
       "    </tr>\n",
       "    <tr>\n",
       "      <th>0.846724</th>\n",
       "      <td>0.497630</td>\n",
       "      <td>0.497630</td>\n",
       "      <td>0.497630</td>\n",
       "    </tr>\n",
       "  </tbody>\n",
       "</table>\n",
       "</div>"
      ],
      "text/plain": [
       "               mean       max       min\n",
       "Condition                              \n",
       "0.354123   0.802215  0.802215  0.802215\n",
       "0.425936   0.578769  0.578769  0.578769\n",
       "0.475520   0.454558  0.454558  0.454558\n",
       "0.502134   0.739618  0.739618  0.739618\n",
       "0.524956   0.009592  0.009592  0.009592\n",
       "0.598830   0.451828  0.451828  0.451828\n",
       "0.676074   0.146974  0.146974  0.146974\n",
       "0.721515   0.254585  0.254585  0.254585\n",
       "0.786564   0.244921  0.244921  0.244921\n",
       "0.846724   0.497630  0.497630  0.497630"
      ]
     },
     "execution_count": 33,
     "metadata": {},
     "output_type": "execute_result"
    }
   ],
   "source": [
    "rentals_KPI=rentals.groupby('Condition')['Rent'].describe()[['mean','max','min']]\n",
    "rentals_KPI"
   ]
  },
  {
   "cell_type": "markdown",
   "id": "f3467462",
   "metadata": {},
   "source": [
    "### Explore the distribution of the rent"
   ]
  },
  {
   "cell_type": "code",
   "execution_count": 98,
   "id": "1d05ff2a",
   "metadata": {},
   "outputs": [
    {
     "data": {
      "text/plain": [
       "<AxesSubplot:ylabel='Frequency'>"
      ]
     },
     "execution_count": 98,
     "metadata": {},
     "output_type": "execute_result"
    },
    {
     "data": {
      "image/png": "[encoded data removed]",
      "text/plain": [
       "<Figure size 432x288 with 1 Axes>"
      ]
     },
     "metadata": {
      "needs_background": "light"
     },
     "output_type": "display_data"
    }
   ],
   "source": [
    "rentals[\"Rent\"].plot.hist()"
   ]
  },
  {
   "cell_type": "code",
   "execution_count": 99,
   "id": "f62c0eb4",
   "metadata": {},
   "outputs": [
    {
     "data": {
      "text/plain": [
       "<seaborn.axisgrid.FacetGrid at 0x210238c2340>"
      ]
     },
     "execution_count": 99,
     "metadata": {},
     "output_type": "execute_result"
    },
    {
     "data": {
      "image/png": "[encoded data removed]",
      "text/plain": [
       "<Figure size 360x360 with 1 Axes>"
      ]
     },
     "metadata": {
      "needs_background": "light"
     },
     "output_type": "display_data"
    }
   ],
   "source": [
    "sns.displot(rentals[\"Rent\"])"
   ]
  },
  {
   "cell_type": "markdown",
   "id": "31115082",
   "metadata": {},
   "source": [
    "### Can see most rent is between 0 to 3,000euro.....This is the distribution of rent."
   ]
  },
  {
   "cell_type": "code",
   "execution_count": null,
   "id": "9c219e03",
   "metadata": {},
   "outputs": [],
   "source": []
  }
 ],
 "metadata": {
  "kernelspec": {
   "display_name": "Python 3 (ipykernel)",
   "language": "python",
   "name": "python3"
  },
  "language_info": {
   "codemirror_mode": {
    "name": "ipython",
    "version": 3
   },
   "file_extension": ".py",
   "mimetype": "text/x-python",
   "name": "python",
   "nbconvert_exporter": "python",
   "pygments_lexer": "ipython3",
   "version": "3.8.8"
  }
 },
 "nbformat": 4,
 "nbformat_minor": 5
}
